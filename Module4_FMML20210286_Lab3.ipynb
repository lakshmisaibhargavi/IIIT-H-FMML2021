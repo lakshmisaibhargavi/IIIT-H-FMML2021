{
  "nbformat": 4,
  "nbformat_minor": 0,
  "metadata": {
    "colab": {
      "name": "Module4_FMML20210286_Lab3.ipynb",
      "provenance": [],
      "include_colab_link": true
    },
    "kernelspec": {
      "name": "python3",
      "display_name": "Python 3"
    },
    "language_info": {
      "name": "python"
    }
  },
  "cells": [
    {
      "cell_type": "markdown",
      "metadata": {
        "id": "view-in-github",
        "colab_type": "text"
      },
      "source": [
        "<a href=\"https://colab.research.google.com/github/lakshmisaibhargavi/IIIT-H-FMML2021/blob/main/Module4_FMML20210286_Lab3.ipynb\" target=\"_parent\"><img src=\"https://colab.research.google.com/assets/colab-badge.svg\" alt=\"Open In Colab\"/></a>"
      ]
    },
    {
      "cell_type": "markdown",
      "source": [
        "# FOUNDATIONS OF MODERN MACHINE LEARNING, IIIT Hyderabad\n",
        "# Module 4: Perceptron and Gradient Descent\n",
        "## Lab 3: Gradient Descent\n",
        "### Module Coordinator: Tanish Lad\n",
        "\n",
        "Gradient descent is a very important algorithm to understand, as it underpins many of the more advanced algorithms used in Machine Learning and Deep Learning.\n",
        "\n",
        "A brief overview of the algorithm is\n",
        "\n",
        "\n",
        "*   start with a random initialization of the solution.\n",
        "*   incrementally change the solution by moving in the direction of negative gradient of the objective function.\n",
        "*   repeat the previous step until some convergence criteria is met.\n",
        "\n",
        "The key equation for change in weight is:\n",
        "$$w^{k+1} \\leftarrow w^k - \\eta \\Delta J$$\n",
        "\n",
        "In this lab, we will discuss stochastic gradient descent, mini-batch gradient descent and batch gradient descent.\n"
      ],
      "metadata": {
        "id": "XYxxkQg6xCjD"
      }
    },
    {
      "cell_type": "code",
      "metadata": {
        "id": "Fr-MnaGs7JmZ"
      },
      "source": [
        "import numpy as np\n",
        "import matplotlib.pyplot as plt"
      ],
      "execution_count": 1,
      "outputs": []
    },
    {
      "cell_type": "code",
      "metadata": {
        "id": "7ob_zZms7VOu"
      },
      "source": [
        "np.random.seed(42)"
      ],
      "execution_count": 2,
      "outputs": []
    },
    {
      "cell_type": "markdown",
      "metadata": {
        "id": "v4Kix4bcChiy"
      },
      "source": [
        "# Creating the Data\n",
        "\n",
        "Let's generate some data with:\n",
        "\\begin{equation} y_0= 4 \\end{equation} \n",
        "\\begin{equation} y_1= 3 \\end{equation} \n",
        "\n",
        "and also add some noise to the data."
      ]
    },
    {
      "cell_type": "code",
      "metadata": {
        "id": "MtAS7eFZ9hX6"
      },
      "source": [
        "X = 2 * np.random.rand(100, 1)\n",
        "y = 4 + 3 * X + np.random.randn(100, 1)"
      ],
      "execution_count": 3,
      "outputs": []
    },
    {
      "cell_type": "markdown",
      "metadata": {
        "id": "zD95NaF-CxM-"
      },
      "source": [
        "Let's also plot the data we just created"
      ]
    },
    {
      "cell_type": "code",
      "metadata": {
        "colab": {
          "base_uri": "https://localhost:8080/",
          "height": 297
        },
        "id": "3IiEP4BQ7Wja",
        "outputId": "78a87ca1-e4b5-47a2-d9b7-8395025e781e"
      },
      "source": [
        "plt.plot(X, y, 'b.')\n",
        "plt.xlabel('x')\n",
        "plt.ylabel('y', rotation=0)"
      ],
      "execution_count": 4,
      "outputs": [
        {
          "output_type": "execute_result",
          "data": {
            "text/plain": [
              "Text(0, 0.5, 'y')"
            ]
          },
          "metadata": {},
          "execution_count": 4
        },
        {
          "output_type": "display_data",
          "data": {
            "text/plain": [
              "<Figure size 432x288 with 1 Axes>"
            ],
            "image/png": "[encoded data removed]"
          },
          "metadata": {
            "needs_background": "light"
          }
        }
      ]
    },
    {
      "cell_type": "markdown",
      "metadata": {
        "id": "ScwxpouoDDyZ"
      },
      "source": [
        "## Cost Function\n",
        "\n",
        "The equation for calculating cost function is as shown below. The cost function is only for linear regression. For other algorithms, the cost function will be different and the gradients would have to be derived from the cost functions\n",
        "\n",
        "\\begin{equation}\n",
        "J(y_{pred}) = \\frac{1}{2} m \\sum_{i=1}^{m} (h(y_{pred})^{(i)} - y^{(i)})^2 \n",
        "\\end{equation}"
      ]
    },
    {
      "cell_type": "code",
      "metadata": {
        "id": "PUeTUAXH7ZaV"
      },
      "source": [
        "def cal_cost(y_pred, X, y):\n",
        "    '''\n",
        "    Calculates the cost for given X and Y.\n",
        "    y_pred = Vector of y_preds \n",
        "    X = Row of X's np.zeros((2, j))\n",
        "    y = Actual y's np.zeros((2, 1))\n",
        "    \n",
        "    where:\n",
        "        j is the no of features\n",
        "    '''\n",
        "    \n",
        "    m = len(y)\n",
        "    \n",
        "    predictions = X.dot(y_pred)\n",
        "    cost = (1 / 2 * m) * np.sum(np.square(predictions - y))\n",
        "\n",
        "    return cost"
      ],
      "execution_count": 5,
      "outputs": []
    },
    {
      "cell_type": "markdown",
      "metadata": {
        "id": "FcXqsVNpDbKC"
      },
      "source": [
        "## Gradients\n",
        "\n",
        "\\begin{equation}\n",
        "y_{pred_0}: = y_{pred_0} -\\alpha . (1/m .\\sum_{i=1}^{m}(h(y_{pred}^{(i)} - y^{(i)}).X_0^{(i)})\n",
        "\\end{equation}\n",
        "\\begin{equation}\n",
        "y_{pred_1}: = y_{pred_1} -\\alpha . (1/m .\\sum_{i=1}^{m}(h(y_{pred}^{(i)} - y^{(i)}).X_0^{(i)})\n",
        "\\end{equation}\n",
        ".\n",
        "\n",
        ".\n",
        "\n",
        ".\n",
        "\n",
        ".\n",
        "\n",
        "\\begin{equation}\n",
        "y_{pred_j}: = y_{pred_j} -\\alpha . (1/m .\\sum_{i=1}^{m}(h(y_{pred}^{(i)} - y^{(i)}).X_0^{(i)})\n",
        "\\end{equation}"
      ]
    },
    {
      "cell_type": "code",
      "metadata": {
        "id": "fwxBFXP88NBW"
      },
      "source": [
        "def gradient_descent(X, y, y_pred, learning_rate=0.01, iterations=100):\n",
        "    '''\n",
        "    X = Matrix of X with added bias units\n",
        "    y = Vector of Y\n",
        "    y_pred = Vector of y_preds np.random.randn(j, 1)\n",
        "    learning_rate \n",
        "    iterations = no of iterations\n",
        "    \n",
        "    Returns the final y_pred vector and array of cost history over no of iterations\n",
        "    '''\n",
        "\n",
        "    m = len(y)\n",
        "    cost_history = np.zeros(iterations)\n",
        "    y_pred_history = np.zeros((iterations, 2))\n",
        "    \n",
        "    for it in range(iterations):    \n",
        "        prediction = np.dot(X, y_pred)\n",
        "        y_pred = y_pred - (1 / m) * learning_rate * (X.T.dot((prediction - y)))\n",
        "        y_pred_history[it,:] = y_pred.T\n",
        "        cost_history[it]  = cal_cost(y_pred, X, y)\n",
        "        \n",
        "    return y_pred, cost_history, y_pred_history    "
      ],
      "execution_count": 6,
      "outputs": []
    },
    {
      "cell_type": "markdown",
      "metadata": {
        "id": "1iSohSB2EtK1"
      },
      "source": [
        "Let's do 1000 iterations with a learning rate of 0.01. \n",
        "We will start with a random prediction."
      ]
    },
    {
      "cell_type": "code",
      "metadata": {
        "colab": {
          "base_uri": "https://localhost:8080/"
        },
        "id": "18AX7hrU8bv5",
        "outputId": "244d0135-61fd-4edd-822c-9eb2b2071cad"
      },
      "source": [
        "lr = 0.01\n",
        "n_iter = 1000\n",
        "\n",
        "y_pred = np.random.randn(2,1)\n",
        "X_b = np.c_[np.ones((len(X), 1)), X]\n",
        "y_pred, cost_history, y_pred_history = gradient_descent(X_b, y, y_pred, lr, n_iter)\n",
        "\n",
        "print('y_pred[0]: {:0.3f}\\ny_pred[1]: {:0.3f}'.format(y_pred[0][0], y_pred[1][0]))\n",
        "print('Final error: {:0.3f}'.format(cost_history[-1]))"
      ],
      "execution_count": 7,
      "outputs": [
        {
          "output_type": "stream",
          "name": "stdout",
          "text": [
            "y_pred[0]: 3.903\n",
            "y_pred[1]: 3.046\n",
            "Final error: 4180.375\n"
          ]
        }
      ]
    },
    {
      "cell_type": "markdown",
      "metadata": {
        "id": "m7fao2MaE216"
      },
      "source": [
        "Plotting the error vs Number of iterations"
      ]
    },
    {
      "cell_type": "code",
      "metadata": {
        "colab": {
          "base_uri": "https://localhost:8080/",
          "height": 515
        },
        "id": "DrkrAAbk8hIs",
        "outputId": "770c03b7-1713-4e8d-f849-36f1e12a9794"
      },
      "source": [
        "fig, ax = plt.subplots(figsize=(12,8))\n",
        "\n",
        "ax.set_ylabel('Error')\n",
        "ax.set_xlabel('Number of iterations')\n",
        "\n",
        "ax.plot(range(n_iter), cost_history, 'b.')"
      ],
      "execution_count": 8,
      "outputs": [
        {
          "output_type": "execute_result",
          "data": {
            "text/plain": [
              "[<matplotlib.lines.Line2D at 0x7efc2b946090>]"
            ]
          },
          "metadata": {},
          "execution_count": 8
        },
        {
          "output_type": "display_data",
          "data": {
            "text/plain": [
              "<Figure size 864x576 with 1 Axes>"
            ],
            "image/png": "[encoded data removed]"
          },
          "metadata": {
            "needs_background": "light"
          }
        }
      ]
    },
    {
      "cell_type": "markdown",
      "metadata": {
        "id": "IG5tWAy-FCaW"
      },
      "source": [
        "Zooming in..."
      ]
    },
    {
      "cell_type": "code",
      "metadata": {
        "colab": {
          "base_uri": "https://localhost:8080/",
          "height": 501
        },
        "id": "WZ7BoFHy8kTk",
        "outputId": "c2e9125a-4598-4f12-e5d6-a0334bcf3440"
      },
      "source": [
        "fig,ax = plt.subplots(figsize=(10,8))\n",
        "ax.plot(range(200), cost_history[:200], 'b.')"
      ],
      "execution_count": 9,
      "outputs": [
        {
          "output_type": "execute_result",
          "data": {
            "text/plain": [
              "[<matplotlib.lines.Line2D at 0x7efc2b8b8690>]"
            ]
          },
          "metadata": {},
          "execution_count": 9
        },
        {
          "output_type": "display_data",
          "data": {
            "text/plain": [
              "<Figure size 720x576 with 1 Axes>"
            ],
            "image/png": "[encoded data removed]"
          },
          "metadata": {
            "needs_background": "light"
          }
        }
      ]
    },
    {
      "cell_type": "markdown",
      "metadata": {
        "id": "JYhOp3fjnh2G"
      },
      "source": [
        "# Stochastic Gradient Descent"
      ]
    },
    {
      "cell_type": "markdown",
      "source": [
        "In Batch Gradient Descent we were considering all the examples for every step of Gradient Descent. But what if our dataset is very huge. Deep learning models crave for data. The more the data the more chances of a model to be good. Suppose our dataset has 5 million examples, then just to take one step the model will have to calculate the gradients of all the 5 million examples. This does not seem an efficient way. To tackle this problem we have Stochastic Gradient Descent. In Stochastic Gradient Descent (SGD), we consider just one example at a time to take a single step."
      ],
      "metadata": {
        "id": "10N2dcwWUctJ"
      }
    },
    {
      "cell_type": "code",
      "metadata": {
        "id": "aVwD7Cqw8m1d"
      },
      "source": [
        "def stocashtic_gradient_descent(X, y, y_pred, learning_rate=0.01, iterations=10):\n",
        "    '''\n",
        "    X = Matrix of X with added bias units\n",
        "    y = Vector of Y\n",
        "    y_pred = Vector of y_pred np.random.randn(j,1)\n",
        "    learning_rate \n",
        "    iterations = no of iterations\n",
        "    \n",
        "    Returns the final y_pred vector and array of cost history over no of iterations\n",
        "    '''\n",
        "\n",
        "    m = len(y)\n",
        "    cost_history = np.zeros(iterations)\n",
        "    \n",
        "    for it in range(iterations):\n",
        "        cost = 0.0\n",
        "        \n",
        "        for i in range(m):\n",
        "            rand_ind = np.random.randint(0,m)\n",
        "            X_i = X[rand_ind, :].reshape(1, X.shape[1])\n",
        "            y_i = y[rand_ind].reshape(1,1)\n",
        "            prediction = np.dot(X_i, y_pred)\n",
        "\n",
        "            y_pred = y_pred - (1 / m) * learning_rate *(X_i.T.dot((prediction - y_i)))\n",
        "            cost += cal_cost(y_pred, X_i, y_i)\n",
        "\n",
        "        cost_history[it]  = cost\n",
        "        \n",
        "    return y_pred, cost_history"
      ],
      "execution_count": 10,
      "outputs": []
    },
    {
      "cell_type": "code",
      "metadata": {
        "colab": {
          "base_uri": "https://localhost:8080/"
        },
        "id": "Yk6pfB5c8tPz",
        "outputId": "fb1d5e84-1f36-4727-8d92-217c9ed39e8c"
      },
      "source": [
        "lr = 0.5\n",
        "n_iter = 50\n",
        "y_pred = np.random.randn(2, 1)\n",
        "X_b = np.c_[np.ones((len(X), 1)), X]\n",
        "y_pred, cost_history = stocashtic_gradient_descent(X_b, y, y_pred, lr, n_iter)\n",
        "\n",
        "print('y_pred[0]: {:0.3f}\\ny_pred[1]: {:0.3f}'.format(y_pred[0][0], y_pred[1][0]))\n",
        "print('Final error: {:0.3f}'.format(cost_history[-1]))"
      ],
      "execution_count": 11,
      "outputs": [
        {
          "output_type": "stream",
          "name": "stdout",
          "text": [
            "y_pred[0]: 4.121\n",
            "y_pred[1]: 2.755\n",
            "Final error: 41.313\n"
          ]
        }
      ]
    },
    {
      "cell_type": "code",
      "metadata": {
        "colab": {
          "base_uri": "https://localhost:8080/",
          "height": 515
        },
        "id": "YiJUgS7o8u2e",
        "outputId": "c0a44f9e-49aa-438e-82d4-77ea6faed3e4"
      },
      "source": [
        "fig, ax = plt.subplots(figsize=(10,8))\n",
        "\n",
        "ax.set_ylabel('Error')\n",
        "ax.set_xlabel('Number of iterations')\n",
        "y_pred = np.random.randn(2,1)\n",
        "\n",
        "ax.plot(range(n_iter), cost_history, 'b.')"
      ],
      "execution_count": 12,
      "outputs": [
        {
          "output_type": "execute_result",
          "data": {
            "text/plain": [
              "[<matplotlib.lines.Line2D at 0x7efc2b837b10>]"
            ]
          },
          "metadata": {},
          "execution_count": 12
        },
        {
          "output_type": "display_data",
          "data": {
            "text/plain": [
              "<Figure size 720x576 with 1 Axes>"
            ],
            "image/png": "[encoded data removed]"
          },
          "metadata": {
            "needs_background": "light"
          }
        }
      ]
    },
    {
      "cell_type": "markdown",
      "metadata": {
        "id": "ScckWktynk1o"
      },
      "source": [
        "# Mini Batch Gradient Descent"
      ]
    },
    {
      "cell_type": "markdown",
      "source": [
        "We have seen the Batch Gradient Descent. We have also seen the Stochastic Gradient Descent. Batch Gradient Descent can be used for smoother curves. SGD can be used when the dataset is large. Batch Gradient Descent converges directly to minima. SGD converges faster for larger datasets. But, since in SGD we use only one example at a time, we cannot implement the vectorized implementation on it. This can slow down the computations. To tackle this problem, a mixture of Batch Gradient Descent and SGD is used.\n",
        "Neither we use all the dataset all at once nor we use the single example at a time. We use a batch of a fixed number of training examples which is less than the actual dataset and call it a mini-batch. Doing this helps us achieve the advantages of both the former variants we saw."
      ],
      "metadata": {
        "id": "ZTVz-QssUkuE"
      }
    },
    {
      "cell_type": "code",
      "metadata": {
        "id": "4JtxFVL78wEm"
      },
      "source": [
        "def minibatch_gradient_descent(X, y, y_pred, learning_rate=0.01, iterations=10, batch_size=20):\n",
        "    '''\n",
        "    X = Matrix of X without added bias units\n",
        "    y = Vector of Y\n",
        "    y_pred = Vector of y_preds np.random.randn(j, 1)\n",
        "    learning_rate \n",
        "    iterations = no of iterations\n",
        "    \n",
        "    Returns the final theta vector and array of cost history over no of iterations\n",
        "    '''\n",
        "\n",
        "    m = len(y)\n",
        "    cost_history = np.zeros(iterations)\n",
        "    n_batches = int(m / batch_size)\n",
        "    \n",
        "    for it in range(iterations):\n",
        "        cost = 0.0\n",
        "        indices = np.random.permutation(m)\n",
        "        X = X[indices]\n",
        "        y = y[indices]\n",
        "\n",
        "        for i in range(0, m, batch_size):\n",
        "            X_i = X[i: i + batch_size]\n",
        "            y_i = y[i: i + batch_size]\n",
        "            \n",
        "            X_i = np.c_[np.ones(len(X_i)), X_i]\n",
        "            prediction = np.dot(X_i, y_pred)\n",
        "\n",
        "            y_pred = y_pred - (1 / m) * learning_rate * (X_i.T.dot((prediction - y_i)))\n",
        "            cost += cal_cost(y_pred, X_i, y_i)\n",
        "\n",
        "        cost_history[it]  = cost\n",
        "        \n",
        "    return y_pred, cost_history"
      ],
      "execution_count": 13,
      "outputs": []
    },
    {
      "cell_type": "code",
      "metadata": {
        "colab": {
          "base_uri": "https://localhost:8080/"
        },
        "id": "SpbsVwA28znL",
        "outputId": "87d97f9e-2ad1-4f06-cf9a-ea8caeba6240"
      },
      "source": [
        "lr = 0.1\n",
        "n_iter = 200\n",
        "y_pred = np.random.randn(2,1)\n",
        "y_pred, cost_history = minibatch_gradient_descent(X, y, y_pred, lr, n_iter)\n",
        "\n",
        "print('y_pred[0]: {:0.3f}\\ny_pred[1]: {:0.3f}'.format(y_pred[0][0], y_pred[1][0]))\n",
        "print('Final error: {:0.3f}'.format(cost_history[-1]))"
      ],
      "execution_count": 14,
      "outputs": [
        {
          "output_type": "stream",
          "name": "stdout",
          "text": [
            "y_pred[0]: 4.148\n",
            "y_pred[1]: 2.827\n",
            "Final error: 807.488\n"
          ]
        }
      ]
    },
    {
      "cell_type": "code",
      "metadata": {
        "colab": {
          "base_uri": "https://localhost:8080/",
          "height": 515
        },
        "id": "Q_ivOYHT817C",
        "outputId": "0706d570-f171-4020-e998-2b464829c1dd"
      },
      "source": [
        "fig, ax = plt.subplots(figsize=(10,8))\n",
        "\n",
        "ax.set_ylabel('Error')\n",
        "ax.set_xlabel('Number of iterations')\n",
        "y_pred = np.random.randn(2,1)\n",
        "\n",
        "ax.plot(range(n_iter), cost_history, 'b.')"
      ],
      "execution_count": 15,
      "outputs": [
        {
          "output_type": "execute_result",
          "data": {
            "text/plain": [
              "[<matplotlib.lines.Line2D at 0x7efc2b8f5fd0>]"
            ]
          },
          "metadata": {},
          "execution_count": 15
        },
        {
          "output_type": "display_data",
          "data": {
            "text/plain": [
              "<Figure size 720x576 with 1 Axes>"
            ],
            "image/png": "[encoded data removed]"
          },
          "metadata": {
            "needs_background": "light"
          }
        }
      ]
    },
    {
      "cell_type": "markdown",
      "source": [
        "Things to try out:\n",
        "\n",
        "1. Change batch size in mini-batch gradient descent.\n",
        "2. Test all the three out on real datasets.\n",
        "3. Compare the effects of changing learning rate by the same amount in Batch GD, SGD and Mini-batch GD."
      ],
      "metadata": {
        "id": "0neTARjKUoP4"
      }
    },
    {
      "cell_type": "code",
      "source": [
        "'''Q1. Change batch size in mini-batch gradient descent.'''\n",
        "# for batch size = 7\n",
        "lr = 0.1\n",
        "n_iter = 2000\n",
        "y_pred = np.random.randn(2,1)\n",
        "y_pred, cost_history = minibatch_gradient_descent(X, y, y_pred, lr, n_iter, batch_size = 7)\n",
        "\n",
        "print('y_pred[0]: {:0.3f}\\ny_pred[1]: {:0.3f}'.format(y_pred[0][0], y_pred[1][0]))\n",
        "print('Final error: {:0.3f}'.format(cost_history[-1]))"
      ],
      "metadata": {
        "colab": {
          "base_uri": "https://localhost:8080/"
        },
        "id": "IsknVmzMFO31",
        "outputId": "4ddd4278-c92d-489e-ab87-e7c1c45c542f"
      },
      "execution_count": 16,
      "outputs": [
        {
          "output_type": "stream",
          "name": "stdout",
          "text": [
            "y_pred[0]: 4.216\n",
            "y_pred[1]: 2.771\n",
            "Final error: 277.048\n"
          ]
        }
      ]
    },
    {
      "cell_type": "code",
      "source": [
        "\n",
        "# for batch size = 16\n",
        "lr = 0.1\n",
        "n_iter = 2000\n",
        "y_pred = np.random.randn(2,1)\n",
        "y_pred, cost_history = minibatch_gradient_descent(X, y, y_pred, lr, n_iter, batch_size = 16)\n",
        "\n",
        "print('y_pred[0]: {:0.3f}\\ny_pred[1]: {:0.3f}'.format(y_pred[0][0], y_pred[1][0]))\n",
        "print('Final error: {:0.3f}'.format(cost_history[-1]))\n",
        "\n"
      ],
      "metadata": {
        "colab": {
          "base_uri": "https://localhost:8080/"
        },
        "id": "ME0gPizzFduY",
        "outputId": "08e8aba2-7ded-468f-fab4-a19d51d3e625"
      },
      "execution_count": 17,
      "outputs": [
        {
          "output_type": "stream",
          "name": "stdout",
          "text": [
            "y_pred[0]: 4.214\n",
            "y_pred[1]: 2.769\n",
            "Final error: 622.136\n"
          ]
        }
      ]
    },
    {
      "cell_type": "code",
      "source": [
        "\n",
        "# for batch size = 121\n",
        "lr = 0.1\n",
        "n_iter = 2000\n",
        "y_pred = np.random.randn(2,1)\n",
        "y_pred, cost_history = minibatch_gradient_descent(X, y, y_pred, lr, n_iter, batch_size = 121)\n",
        "\n",
        "print('y_pred[0]: {:0.3f}\\ny_pred[1]: {:0.3f}'.format(y_pred[0][0], y_pred[1][0]))\n",
        "print('Final error: {:0.3f}'.format(cost_history[-1]))\n",
        "\n"
      ],
      "metadata": {
        "colab": {
          "base_uri": "https://localhost:8080/"
        },
        "id": "fl39-KYnFiXn",
        "outputId": "2ccf2710-c7f9-4872-ff27-59d92f76a9e8"
      },
      "execution_count": 18,
      "outputs": [
        {
          "output_type": "stream",
          "name": "stdout",
          "text": [
            "y_pred[0]: 4.215\n",
            "y_pred[1]: 2.770\n",
            "Final error: 4032.923\n"
          ]
        }
      ]
    },
    {
      "cell_type": "code",
      "source": [
        "\n",
        "# for batch size = 324\n",
        "lr = 0.1\n",
        "n_iter = 2000\n",
        "y_pred = np.random.randn(2,1)\n",
        "y_pred, cost_history = minibatch_gradient_descent(X, y, y_pred, lr, n_iter, batch_size = 324)\n",
        "\n",
        "print('y_pred[0]: {:0.3f}\\ny_pred[1]: {:0.3f}'.format(y_pred[0][0], y_pred[1][0]))\n",
        "print('Final error: {:0.3f}'.format(cost_history[-1]))\n",
        "\n"
      ],
      "metadata": {
        "colab": {
          "base_uri": "https://localhost:8080/"
        },
        "id": "LqsCJ-FIFril",
        "outputId": "18b337f7-076b-4ec3-ad7d-99a43542e78c"
      },
      "execution_count": 19,
      "outputs": [
        {
          "output_type": "stream",
          "name": "stdout",
          "text": [
            "y_pred[0]: 4.215\n",
            "y_pred[1]: 2.770\n",
            "Final error: 4032.923\n"
          ]
        }
      ]
    },
    {
      "cell_type": "code",
      "source": [
        "'''\n",
        "Q2\n",
        "'''\n",
        "#Importing the necessary libraries and dataset (Boston dataset)\n",
        "import warnings\n",
        "warnings.filterwarnings(\"ignore\")\n",
        "from sklearn.datasets import load_boston\n",
        "from random import seed\n",
        "from random import randrange\n",
        "from csv import reader\n",
        "from math import sqrt\n",
        "from sklearn import preprocessing\n",
        "import pandas as pd\n",
        "import numpy as np\n",
        "import matplotlib.pyplot as plt\n",
        "from prettytable import PrettyTable\n",
        "from sklearn.linear_model import SGDRegressor\n",
        "from sklearn import preprocessing\n",
        "from sklearn.metrics import mean_squared_error\n",
        "from sklearn.model_selection import train_test_split"
      ],
      "metadata": {
        "id": "4TD4poskIerk"
      },
      "execution_count": 21,
      "outputs": []
    },
    {
      "cell_type": "code",
      "source": [
        "X = load_boston().data\n",
        "Y = load_boston().target\n",
        "\n",
        "X_train, X_test, y_train, y_test = train_test_split(X, Y, test_size=0.3, random_state=0) # test size is 30% - splitting dataset\n",
        "\n",
        "scaler = preprocessing.StandardScaler()\n",
        "X_train = scaler.fit_transform(X_train)\n",
        "X_test = scaler.transform(X_test)\n",
        "\n",
        "X_train = pd.DataFrame(data = X_train, columns=load_boston().feature_names)\n",
        "X_train['Price'] = list(y_train)  \n",
        "X_test = pd.DataFrame(data = X_test, columns=load_boston().feature_names)\n",
        "X_test['Price'] = list(y_test)\n"
      ],
      "metadata": {
        "id": "zSlXxPIYInaz"
      },
      "execution_count": 22,
      "outputs": []
    },
    {
      "cell_type": "code",
      "source": [
        "X_train.head(10)"
      ],
      "metadata": {
        "colab": {
          "base_uri": "https://localhost:8080/",
          "height": 363
        },
        "id": "izLdqnq9JOne",
        "outputId": "2c51f244-229f-4649-86c0-227753bd9841"
      },
      "execution_count": 23,
      "outputs": [
        {
          "output_type": "execute_result",
          "data": {
            "text/plain": [
              "       CRIM        ZN     INDUS      CHAS       NOX        RM       AGE  \\\n",
              "0 -0.207356 -0.499979  1.548016 -0.263603  0.588213 -1.839367  1.107402   \n",
              "1 -0.388865  0.346774 -0.589747 -0.263603 -0.797821  0.327487 -0.367661   \n",
              "2 -0.335735 -0.499979  1.548016 -0.263603  0.588213  0.037907  1.043114   \n",
              "3 -0.394852  2.463658 -1.265584 -0.263603 -1.352235  0.052172 -1.746292   \n",
              "4 -0.391456 -0.499979  2.086394 -0.263603  0.215716 -0.495604  0.853820   \n",
              "5 -0.254851 -0.499979 -0.420788 -0.263603 -0.156780 -0.237408  0.810961   \n",
              "6 -0.386355  0.029242 -0.717183 -0.263603 -1.274271 -1.019130 -1.149837   \n",
              "7 -0.252534 -0.499979 -0.420788 -0.263603 -0.156780 -1.053366  1.039542   \n",
              "8  1.416896 -0.499979  1.005342 -0.263603  1.593088 -0.223143  1.107402   \n",
              "9 -0.326123 -0.499979 -0.420788 -0.263603 -0.156780 -0.303027  0.553807   \n",
              "\n",
              "        DIS       RAD       TAX   PTRATIO         B     LSTAT  Price  \n",
              "0 -1.125110 -0.618160  0.206735  1.227257  0.424543  3.108073   14.4  \n",
              "1  0.075090 -0.733637 -1.049493  0.056963  0.401853 -0.666430   24.4  \n",
              "2 -0.799984 -0.618160  0.206735  1.227257  0.398461  0.639367   18.1  \n",
              "3  1.968937 -0.502683 -0.257013 -1.653466  0.089342 -1.056896   22.5  \n",
              "4 -0.811511 -0.849114 -1.254951  0.282020  0.204545  0.776596   20.5  \n",
              "5  0.103859 -0.618160 -0.556394  1.137235  0.424543  0.888359   15.2  \n",
              "6  1.324885 -0.618160 -0.333326  0.191997  0.424543  0.091866   17.4  \n",
              "7  0.017165 -0.618160 -0.556394  1.137235  0.186768  1.213748   13.6  \n",
              "8 -0.895154  1.691377  1.551016  0.777144 -4.108507  1.981947    8.7  \n",
              "9  0.338755 -0.618160 -0.556394  1.137235  0.227118 -0.308503   18.2  "
            ],
            "text/html": [
              "\n",
              "  <div id=\"df-757159ab-b91c-4d2b-aea7-94b47134683a\">\n",
              "    <div class=\"colab-df-container\">\n",
              "      <div>\n",
              "<style scoped>\n",
              "    .dataframe tbody tr th:only-of-type {\n",
              "        vertical-align: middle;\n",
              "    }\n",
              "\n",
              "    .dataframe tbody tr th {\n",
              "        vertical-align: top;\n",
              "    }\n",
              "\n",
              "    .dataframe thead th {\n",
              "        text-align: right;\n",
              "    }\n",
              "</style>\n",
              "<table border=\"1\" class=\"dataframe\">\n",
              "  <thead>\n",
              "    <tr style=\"text-align: right;\">\n",
              "      <th></th>\n",
              "      <th>CRIM</th>\n",
              "      <th>ZN</th>\n",
              "      <th>INDUS</th>\n",
              "      <th>CHAS</th>\n",
              "      <th>NOX</th>\n",
              "      <th>RM</th>\n",
              "      <th>AGE</th>\n",
              "      <th>DIS</th>\n",
              "      <th>RAD</th>\n",
              "      <th>TAX</th>\n",
              "      <th>PTRATIO</th>\n",
              "      <th>B</th>\n",
              "      <th>LSTAT</th>\n",
              "      <th>Price</th>\n",
              "    </tr>\n",
              "  </thead>\n",
              "  <tbody>\n",
              "    <tr>\n",
              "      <th>0</th>\n",
              "      <td>-0.207356</td>\n",
              "      <td>-0.499979</td>\n",
              "      <td>1.548016</td>\n",
              "      <td>-0.263603</td>\n",
              "      <td>0.588213</td>\n",
              "      <td>-1.839367</td>\n",
              "      <td>1.107402</td>\n",
              "      <td>-1.125110</td>\n",
              "      <td>-0.618160</td>\n",
              "      <td>0.206735</td>\n",
              "      <td>1.227257</td>\n",
              "      <td>0.424543</td>\n",
              "      <td>3.108073</td>\n",
              "      <td>14.4</td>\n",
              "    </tr>\n",
              "    <tr>\n",
              "      <th>1</th>\n",
              "      <td>-0.388865</td>\n",
              "      <td>0.346774</td>\n",
              "      <td>-0.589747</td>\n",
              "      <td>-0.263603</td>\n",
              "      <td>-0.797821</td>\n",
              "      <td>0.327487</td>\n",
              "      <td>-0.367661</td>\n",
              "      <td>0.075090</td>\n",
              "      <td>-0.733637</td>\n",
              "      <td>-1.049493</td>\n",
              "      <td>0.056963</td>\n",
              "      <td>0.401853</td>\n",
              "      <td>-0.666430</td>\n",
              "      <td>24.4</td>\n",
              "    </tr>\n",
              "    <tr>\n",
              "      <th>2</th>\n",
              "      <td>-0.335735</td>\n",
              "      <td>-0.499979</td>\n",
              "      <td>1.548016</td>\n",
              "      <td>-0.263603</td>\n",
              "      <td>0.588213</td>\n",
              "      <td>0.037907</td>\n",
              "      <td>1.043114</td>\n",
              "      <td>-0.799984</td>\n",
              "      <td>-0.618160</td>\n",
              "      <td>0.206735</td>\n",
              "      <td>1.227257</td>\n",
              "      <td>0.398461</td>\n",
              "      <td>0.639367</td>\n",
              "      <td>18.1</td>\n",
              "    </tr>\n",
              "    <tr>\n",
              "      <th>3</th>\n",
              "      <td>-0.394852</td>\n",
              "      <td>2.463658</td>\n",
              "      <td>-1.265584</td>\n",
              "      <td>-0.263603</td>\n",
              "      <td>-1.352235</td>\n",
              "      <td>0.052172</td>\n",
              "      <td>-1.746292</td>\n",
              "      <td>1.968937</td>\n",
              "      <td>-0.502683</td>\n",
              "      <td>-0.257013</td>\n",
              "      <td>-1.653466</td>\n",
              "      <td>0.089342</td>\n",
              "      <td>-1.056896</td>\n",
              "      <td>22.5</td>\n",
              "    </tr>\n",
              "    <tr>\n",
              "      <th>4</th>\n",
              "      <td>-0.391456</td>\n",
              "      <td>-0.499979</td>\n",
              "      <td>2.086394</td>\n",
              "      <td>-0.263603</td>\n",
              "      <td>0.215716</td>\n",
              "      <td>-0.495604</td>\n",
              "      <td>0.853820</td>\n",
              "      <td>-0.811511</td>\n",
              "      <td>-0.849114</td>\n",
              "      <td>-1.254951</td>\n",
              "      <td>0.282020</td>\n",
              "      <td>0.204545</td>\n",
              "      <td>0.776596</td>\n",
              "      <td>20.5</td>\n",
              "    </tr>\n",
              "    <tr>\n",
              "      <th>5</th>\n",
              "      <td>-0.254851</td>\n",
              "      <td>-0.499979</td>\n",
              "      <td>-0.420788</td>\n",
              "      <td>-0.263603</td>\n",
              "      <td>-0.156780</td>\n",
              "      <td>-0.237408</td>\n",
              "      <td>0.810961</td>\n",
              "      <td>0.103859</td>\n",
              "      <td>-0.618160</td>\n",
              "      <td>-0.556394</td>\n",
              "      <td>1.137235</td>\n",
              "      <td>0.424543</td>\n",
              "      <td>0.888359</td>\n",
              "      <td>15.2</td>\n",
              "    </tr>\n",
              "    <tr>\n",
              "      <th>6</th>\n",
              "      <td>-0.386355</td>\n",
              "      <td>0.029242</td>\n",
              "      <td>-0.717183</td>\n",
              "      <td>-0.263603</td>\n",
              "      <td>-1.274271</td>\n",
              "      <td>-1.019130</td>\n",
              "      <td>-1.149837</td>\n",
              "      <td>1.324885</td>\n",
              "      <td>-0.618160</td>\n",
              "      <td>-0.333326</td>\n",
              "      <td>0.191997</td>\n",
              "      <td>0.424543</td>\n",
              "      <td>0.091866</td>\n",
              "      <td>17.4</td>\n",
              "    </tr>\n",
              "    <tr>\n",
              "      <th>7</th>\n",
              "      <td>-0.252534</td>\n",
              "      <td>-0.499979</td>\n",
              "      <td>-0.420788</td>\n",
              "      <td>-0.263603</td>\n",
              "      <td>-0.156780</td>\n",
              "      <td>-1.053366</td>\n",
              "      <td>1.039542</td>\n",
              "      <td>0.017165</td>\n",
              "      <td>-0.618160</td>\n",
              "      <td>-0.556394</td>\n",
              "      <td>1.137235</td>\n",
              "      <td>0.186768</td>\n",
              "      <td>1.213748</td>\n",
              "      <td>13.6</td>\n",
              "    </tr>\n",
              "    <tr>\n",
              "      <th>8</th>\n",
              "      <td>1.416896</td>\n",
              "      <td>-0.499979</td>\n",
              "      <td>1.005342</td>\n",
              "      <td>-0.263603</td>\n",
              "      <td>1.593088</td>\n",
              "      <td>-0.223143</td>\n",
              "      <td>1.107402</td>\n",
              "      <td>-0.895154</td>\n",
              "      <td>1.691377</td>\n",
              "      <td>1.551016</td>\n",
              "      <td>0.777144</td>\n",
              "      <td>-4.108507</td>\n",
              "      <td>1.981947</td>\n",
              "      <td>8.7</td>\n",
              "    </tr>\n",
              "    <tr>\n",
              "      <th>9</th>\n",
              "      <td>-0.326123</td>\n",
              "      <td>-0.499979</td>\n",
              "      <td>-0.420788</td>\n",
              "      <td>-0.263603</td>\n",
              "      <td>-0.156780</td>\n",
              "      <td>-0.303027</td>\n",
              "      <td>0.553807</td>\n",
              "      <td>0.338755</td>\n",
              "      <td>-0.618160</td>\n",
              "      <td>-0.556394</td>\n",
              "      <td>1.137235</td>\n",
              "      <td>0.227118</td>\n",
              "      <td>-0.308503</td>\n",
              "      <td>18.2</td>\n",
              "    </tr>\n",
              "  </tbody>\n",
              "</table>\n",
              "</div>\n",
              "      <button class=\"colab-df-convert\" onclick=\"convertToInteractive('df-757159ab-b91c-4d2b-aea7-94b47134683a')\"\n",
              "              title=\"Convert this dataframe to an interactive table.\"\n",
              "              style=\"display:none;\">\n",
              "        \n",
              "  <svg xmlns=\"http://www.w3.org/2000/svg\" height=\"24px\"viewBox=\"0 0 24 24\"\n",
              "       width=\"24px\">\n",
              "    <path d=\"M0 0h24v24H0V0z\" fill=\"none\"/>\n",
              "    <path d=\"M18.56 5.44l.94 2.06.94-2.06 2.06-.94-2.06-.94-.94-2.06-.94 2.06-2.06.94zm-11 1L8.5 8.5l.94-2.06 2.06-.94-2.06-.94L8.5 2.5l-.94 2.06-2.06.94zm10 10l.94 2.06.94-2.06 2.06-.94-2.06-.94-.94-2.06-.94 2.06-2.06.94z\"/><path d=\"M17.41 7.96l-1.37-1.37c-.4-.4-.92-.59-1.43-.59-.52 0-1.04.2-1.43.59L10.3 9.45l-7.72 7.72c-.78.78-.78 2.05 0 2.83L4 21.41c.39.39.9.59 1.41.59.51 0 1.02-.2 1.41-.59l7.78-7.78 2.81-2.81c.8-.78.8-2.07 0-2.86zM5.41 20L4 18.59l7.72-7.72 1.47 1.35L5.41 20z\"/>\n",
              "  </svg>\n",
              "      </button>\n",
              "      \n",
              "  <style>\n",
              "    .colab-df-container {\n",
              "      display:flex;\n",
              "      flex-wrap:wrap;\n",
              "      gap: 12px;\n",
              "    }\n",
              "\n",
              "    .colab-df-convert {\n",
              "      background-color: #E8F0FE;\n",
              "      border: none;\n",
              "      border-radius: 50%;\n",
              "      cursor: pointer;\n",
              "      display: none;\n",
              "      fill: #1967D2;\n",
              "      height: 32px;\n",
              "      padding: 0 0 0 0;\n",
              "      width: 32px;\n",
              "    }\n",
              "\n",
              "    .colab-df-convert:hover {\n",
              "      background-color: #E2EBFA;\n",
              "      box-shadow: 0px 1px 2px rgba(60, 64, 67, 0.3), 0px 1px 3px 1px rgba(60, 64, 67, 0.15);\n",
              "      fill: #174EA6;\n",
              "    }\n",
              "\n",
              "    [theme=dark] .colab-df-convert {\n",
              "      background-color: #3B4455;\n",
              "      fill: #D2E3FC;\n",
              "    }\n",
              "\n",
              "    [theme=dark] .colab-df-convert:hover {\n",
              "      background-color: #434B5C;\n",
              "      box-shadow: 0px 1px 3px 1px rgba(0, 0, 0, 0.15);\n",
              "      filter: drop-shadow(0px 1px 2px rgba(0, 0, 0, 0.3));\n",
              "      fill: #FFFFFF;\n",
              "    }\n",
              "  </style>\n",
              "\n",
              "      <script>\n",
              "        const buttonEl =\n",
              "          document.querySelector('#df-757159ab-b91c-4d2b-aea7-94b47134683a button.colab-df-convert');\n",
              "        buttonEl.style.display =\n",
              "          google.colab.kernel.accessAllowed ? 'block' : 'none';\n",
              "\n",
              "        async function convertToInteractive(key) {\n",
              "          const element = document.querySelector('#df-757159ab-b91c-4d2b-aea7-94b47134683a');\n",
              "          const dataTable =\n",
              "            await google.colab.kernel.invokeFunction('convertToInteractive',\n",
              "                                                     [key], {});\n",
              "          if (!dataTable) return;\n",
              "\n",
              "          const docLinkHtml = 'Like what you see? Visit the ' +\n",
              "            '<a target=\"_blank\" href=https://colab.research.google.com/notebooks/data_table.ipynb>data table notebook</a>'\n",
              "            + ' to learn more about interactive tables.';\n",
              "          element.innerHTML = '';\n",
              "          dataTable['output_type'] = 'display_data';\n",
              "          await google.colab.output.renderOutput(dataTable, element);\n",
              "          const docLink = document.createElement('div');\n",
              "          docLink.innerHTML = docLinkHtml;\n",
              "          element.appendChild(docLink);\n",
              "        }\n",
              "      </script>\n",
              "    </div>\n",
              "  </div>\n",
              "  "
            ]
          },
          "metadata": {},
          "execution_count": 23
        }
      ]
    },
    {
      "cell_type": "code",
      "source": [
        "X_train.tail(10)"
      ],
      "metadata": {
        "colab": {
          "base_uri": "https://localhost:8080/",
          "height": 363
        },
        "id": "LNRBg291JRBY",
        "outputId": "a6f48a61-6a51-4e5b-d3d5-6986de82c41e"
      },
      "execution_count": 24,
      "outputs": [
        {
          "output_type": "execute_result",
          "data": {
            "text/plain": [
              "         CRIM        ZN     INDUS      CHAS       NOX        RM       AGE  \\\n",
              "344 -0.357554 -0.499979 -0.069983  3.793587 -0.581254 -1.290165  0.700242   \n",
              "345 -0.382219  0.029242 -0.459448 -0.263603 -0.278058 -0.434265  0.603809   \n",
              "346  0.108258 -0.499979  1.005342 -0.263603  1.852970 -0.280203  0.439516   \n",
              "347 -0.400948  2.887035 -1.520455 -0.263603 -1.161656  2.234717 -1.321273   \n",
              "348 -0.376938  0.431450 -0.747252 -0.263603 -1.083691  0.184837 -2.146309   \n",
              "349 -0.368566 -0.499979 -0.529609 -0.263603 -0.546603 -0.856509  0.189506   \n",
              "350 -0.392217  1.405216 -1.093761 -0.263603 -1.031715  1.240447 -1.524854   \n",
              "351 -0.384504 -0.499979 -0.153031 -0.263603 -0.078816 -0.410014  0.485947   \n",
              "352 -0.375118 -0.499979 -0.596907 -0.263603 -0.936425 -0.397176  0.589523   \n",
              "353 -0.385923 -0.499979 -1.006418 -0.263603 -0.399337 -1.050513  0.696670   \n",
              "\n",
              "          DIS       RAD       TAX   PTRATIO         B     LSTAT  Price  \n",
              "344 -0.047201 -0.618160 -0.732501  0.056963  0.405128  1.632508   19.3  \n",
              "345  1.370460 -0.502683 -0.532913 -1.473421  0.305363  0.659173   18.9  \n",
              "346 -0.607030  1.691377  1.551016  0.777144  0.352497  0.032447   22.6  \n",
              "347  0.913404 -0.618160 -0.861646 -1.833511  0.393315 -1.339842   50.0  \n",
              "348  1.760146 -0.271729 -0.421379  0.282020  0.192616 -1.252129   24.8  \n",
              "349  0.464292 -0.502683 -0.673799  0.507076  0.357058 -0.099123   18.5  \n",
              "350  1.316070 -0.502683 -0.022204 -1.473421  0.349573 -1.353990   36.4  \n",
              "351 -0.491616 -0.387206  0.177384 -0.303127  0.396590 -0.302844   19.2  \n",
              "352  0.933261 -0.733637 -0.990791 -0.258116  0.375888  0.899677   16.6  \n",
              "353 -0.564894 -0.502683 -0.620967 -0.843263  0.424543  0.318223   23.1  "
            ],
            "text/html": [
              "\n",
              "  <div id=\"df-082127e9-b1b5-472c-801e-620dcfaede1f\">\n",
              "    <div class=\"colab-df-container\">\n",
              "      <div>\n",
              "<style scoped>\n",
              "    .dataframe tbody tr th:only-of-type {\n",
              "        vertical-align: middle;\n",
              "    }\n",
              "\n",
              "    .dataframe tbody tr th {\n",
              "        vertical-align: top;\n",
              "    }\n",
              "\n",
              "    .dataframe thead th {\n",
              "        text-align: right;\n",
              "    }\n",
              "</style>\n",
              "<table border=\"1\" class=\"dataframe\">\n",
              "  <thead>\n",
              "    <tr style=\"text-align: right;\">\n",
              "      <th></th>\n",
              "      <th>CRIM</th>\n",
              "      <th>ZN</th>\n",
              "      <th>INDUS</th>\n",
              "      <th>CHAS</th>\n",
              "      <th>NOX</th>\n",
              "      <th>RM</th>\n",
              "      <th>AGE</th>\n",
              "      <th>DIS</th>\n",
              "      <th>RAD</th>\n",
              "      <th>TAX</th>\n",
              "      <th>PTRATIO</th>\n",
              "      <th>B</th>\n",
              "      <th>LSTAT</th>\n",
              "      <th>Price</th>\n",
              "    </tr>\n",
              "  </thead>\n",
              "  <tbody>\n",
              "    <tr>\n",
              "      <th>344</th>\n",
              "      <td>-0.357554</td>\n",
              "      <td>-0.499979</td>\n",
              "      <td>-0.069983</td>\n",
              "      <td>3.793587</td>\n",
              "      <td>-0.581254</td>\n",
              "      <td>-1.290165</td>\n",
              "      <td>0.700242</td>\n",
              "      <td>-0.047201</td>\n",
              "      <td>-0.618160</td>\n",
              "      <td>-0.732501</td>\n",
              "      <td>0.056963</td>\n",
              "      <td>0.405128</td>\n",
              "      <td>1.632508</td>\n",
              "      <td>19.3</td>\n",
              "    </tr>\n",
              "    <tr>\n",
              "      <th>345</th>\n",
              "      <td>-0.382219</td>\n",
              "      <td>0.029242</td>\n",
              "      <td>-0.459448</td>\n",
              "      <td>-0.263603</td>\n",
              "      <td>-0.278058</td>\n",
              "      <td>-0.434265</td>\n",
              "      <td>0.603809</td>\n",
              "      <td>1.370460</td>\n",
              "      <td>-0.502683</td>\n",
              "      <td>-0.532913</td>\n",
              "      <td>-1.473421</td>\n",
              "      <td>0.305363</td>\n",
              "      <td>0.659173</td>\n",
              "      <td>18.9</td>\n",
              "    </tr>\n",
              "    <tr>\n",
              "      <th>346</th>\n",
              "      <td>0.108258</td>\n",
              "      <td>-0.499979</td>\n",
              "      <td>1.005342</td>\n",
              "      <td>-0.263603</td>\n",
              "      <td>1.852970</td>\n",
              "      <td>-0.280203</td>\n",
              "      <td>0.439516</td>\n",
              "      <td>-0.607030</td>\n",
              "      <td>1.691377</td>\n",
              "      <td>1.551016</td>\n",
              "      <td>0.777144</td>\n",
              "      <td>0.352497</td>\n",
              "      <td>0.032447</td>\n",
              "      <td>22.6</td>\n",
              "    </tr>\n",
              "    <tr>\n",
              "      <th>347</th>\n",
              "      <td>-0.400948</td>\n",
              "      <td>2.887035</td>\n",
              "      <td>-1.520455</td>\n",
              "      <td>-0.263603</td>\n",
              "      <td>-1.161656</td>\n",
              "      <td>2.234717</td>\n",
              "      <td>-1.321273</td>\n",
              "      <td>0.913404</td>\n",
              "      <td>-0.618160</td>\n",
              "      <td>-0.861646</td>\n",
              "      <td>-1.833511</td>\n",
              "      <td>0.393315</td>\n",
              "      <td>-1.339842</td>\n",
              "      <td>50.0</td>\n",
              "    </tr>\n",
              "    <tr>\n",
              "      <th>348</th>\n",
              "      <td>-0.376938</td>\n",
              "      <td>0.431450</td>\n",
              "      <td>-0.747252</td>\n",
              "      <td>-0.263603</td>\n",
              "      <td>-1.083691</td>\n",
              "      <td>0.184837</td>\n",
              "      <td>-2.146309</td>\n",
              "      <td>1.760146</td>\n",
              "      <td>-0.271729</td>\n",
              "      <td>-0.421379</td>\n",
              "      <td>0.282020</td>\n",
              "      <td>0.192616</td>\n",
              "      <td>-1.252129</td>\n",
              "      <td>24.8</td>\n",
              "    </tr>\n",
              "    <tr>\n",
              "      <th>349</th>\n",
              "      <td>-0.368566</td>\n",
              "      <td>-0.499979</td>\n",
              "      <td>-0.529609</td>\n",
              "      <td>-0.263603</td>\n",
              "      <td>-0.546603</td>\n",
              "      <td>-0.856509</td>\n",
              "      <td>0.189506</td>\n",
              "      <td>0.464292</td>\n",
              "      <td>-0.502683</td>\n",
              "      <td>-0.673799</td>\n",
              "      <td>0.507076</td>\n",
              "      <td>0.357058</td>\n",
              "      <td>-0.099123</td>\n",
              "      <td>18.5</td>\n",
              "    </tr>\n",
              "    <tr>\n",
              "      <th>350</th>\n",
              "      <td>-0.392217</td>\n",
              "      <td>1.405216</td>\n",
              "      <td>-1.093761</td>\n",
              "      <td>-0.263603</td>\n",
              "      <td>-1.031715</td>\n",
              "      <td>1.240447</td>\n",
              "      <td>-1.524854</td>\n",
              "      <td>1.316070</td>\n",
              "      <td>-0.502683</td>\n",
              "      <td>-0.022204</td>\n",
              "      <td>-1.473421</td>\n",
              "      <td>0.349573</td>\n",
              "      <td>-1.353990</td>\n",
              "      <td>36.4</td>\n",
              "    </tr>\n",
              "    <tr>\n",
              "      <th>351</th>\n",
              "      <td>-0.384504</td>\n",
              "      <td>-0.499979</td>\n",
              "      <td>-0.153031</td>\n",
              "      <td>-0.263603</td>\n",
              "      <td>-0.078816</td>\n",
              "      <td>-0.410014</td>\n",
              "      <td>0.485947</td>\n",
              "      <td>-0.491616</td>\n",
              "      <td>-0.387206</td>\n",
              "      <td>0.177384</td>\n",
              "      <td>-0.303127</td>\n",
              "      <td>0.396590</td>\n",
              "      <td>-0.302844</td>\n",
              "      <td>19.2</td>\n",
              "    </tr>\n",
              "    <tr>\n",
              "      <th>352</th>\n",
              "      <td>-0.375118</td>\n",
              "      <td>-0.499979</td>\n",
              "      <td>-0.596907</td>\n",
              "      <td>-0.263603</td>\n",
              "      <td>-0.936425</td>\n",
              "      <td>-0.397176</td>\n",
              "      <td>0.589523</td>\n",
              "      <td>0.933261</td>\n",
              "      <td>-0.733637</td>\n",
              "      <td>-0.990791</td>\n",
              "      <td>-0.258116</td>\n",
              "      <td>0.375888</td>\n",
              "      <td>0.899677</td>\n",
              "      <td>16.6</td>\n",
              "    </tr>\n",
              "    <tr>\n",
              "      <th>353</th>\n",
              "      <td>-0.385923</td>\n",
              "      <td>-0.499979</td>\n",
              "      <td>-1.006418</td>\n",
              "      <td>-0.263603</td>\n",
              "      <td>-0.399337</td>\n",
              "      <td>-1.050513</td>\n",
              "      <td>0.696670</td>\n",
              "      <td>-0.564894</td>\n",
              "      <td>-0.502683</td>\n",
              "      <td>-0.620967</td>\n",
              "      <td>-0.843263</td>\n",
              "      <td>0.424543</td>\n",
              "      <td>0.318223</td>\n",
              "      <td>23.1</td>\n",
              "    </tr>\n",
              "  </tbody>\n",
              "</table>\n",
              "</div>\n",
              "      <button class=\"colab-df-convert\" onclick=\"convertToInteractive('df-082127e9-b1b5-472c-801e-620dcfaede1f')\"\n",
              "              title=\"Convert this dataframe to an interactive table.\"\n",
              "              style=\"display:none;\">\n",
              "        \n",
              "  <svg xmlns=\"http://www.w3.org/2000/svg\" height=\"24px\"viewBox=\"0 0 24 24\"\n",
              "       width=\"24px\">\n",
              "    <path d=\"M0 0h24v24H0V0z\" fill=\"none\"/>\n",
              "    <path d=\"M18.56 5.44l.94 2.06.94-2.06 2.06-.94-2.06-.94-.94-2.06-.94 2.06-2.06.94zm-11 1L8.5 8.5l.94-2.06 2.06-.94-2.06-.94L8.5 2.5l-.94 2.06-2.06.94zm10 10l.94 2.06.94-2.06 2.06-.94-2.06-.94-.94-2.06-.94 2.06-2.06.94z\"/><path d=\"M17.41 7.96l-1.37-1.37c-.4-.4-.92-.59-1.43-.59-.52 0-1.04.2-1.43.59L10.3 9.45l-7.72 7.72c-.78.78-.78 2.05 0 2.83L4 21.41c.39.39.9.59 1.41.59.51 0 1.02-.2 1.41-.59l7.78-7.78 2.81-2.81c.8-.78.8-2.07 0-2.86zM5.41 20L4 18.59l7.72-7.72 1.47 1.35L5.41 20z\"/>\n",
              "  </svg>\n",
              "      </button>\n",
              "      \n",
              "  <style>\n",
              "    .colab-df-container {\n",
              "      display:flex;\n",
              "      flex-wrap:wrap;\n",
              "      gap: 12px;\n",
              "    }\n",
              "\n",
              "    .colab-df-convert {\n",
              "      background-color: #E8F0FE;\n",
              "      border: none;\n",
              "      border-radius: 50%;\n",
              "      cursor: pointer;\n",
              "      display: none;\n",
              "      fill: #1967D2;\n",
              "      height: 32px;\n",
              "      padding: 0 0 0 0;\n",
              "      width: 32px;\n",
              "    }\n",
              "\n",
              "    .colab-df-convert:hover {\n",
              "      background-color: #E2EBFA;\n",
              "      box-shadow: 0px 1px 2px rgba(60, 64, 67, 0.3), 0px 1px 3px 1px rgba(60, 64, 67, 0.15);\n",
              "      fill: #174EA6;\n",
              "    }\n",
              "\n",
              "    [theme=dark] .colab-df-convert {\n",
              "      background-color: #3B4455;\n",
              "      fill: #D2E3FC;\n",
              "    }\n",
              "\n",
              "    [theme=dark] .colab-df-convert:hover {\n",
              "      background-color: #434B5C;\n",
              "      box-shadow: 0px 1px 3px 1px rgba(0, 0, 0, 0.15);\n",
              "      filter: drop-shadow(0px 1px 2px rgba(0, 0, 0, 0.3));\n",
              "      fill: #FFFFFF;\n",
              "    }\n",
              "  </style>\n",
              "\n",
              "      <script>\n",
              "        const buttonEl =\n",
              "          document.querySelector('#df-082127e9-b1b5-472c-801e-620dcfaede1f button.colab-df-convert');\n",
              "        buttonEl.style.display =\n",
              "          google.colab.kernel.accessAllowed ? 'block' : 'none';\n",
              "\n",
              "        async function convertToInteractive(key) {\n",
              "          const element = document.querySelector('#df-082127e9-b1b5-472c-801e-620dcfaede1f');\n",
              "          const dataTable =\n",
              "            await google.colab.kernel.invokeFunction('convertToInteractive',\n",
              "                                                     [key], {});\n",
              "          if (!dataTable) return;\n",
              "\n",
              "          const docLinkHtml = 'Like what you see? Visit the ' +\n",
              "            '<a target=\"_blank\" href=https://colab.research.google.com/notebooks/data_table.ipynb>data table notebook</a>'\n",
              "            + ' to learn more about interactive tables.';\n",
              "          element.innerHTML = '';\n",
              "          dataTable['output_type'] = 'display_data';\n",
              "          await google.colab.output.renderOutput(dataTable, element);\n",
              "          const docLink = document.createElement('div');\n",
              "          docLink.innerHTML = docLinkHtml;\n",
              "          element.appendChild(docLink);\n",
              "        }\n",
              "      </script>\n",
              "    </div>\n",
              "  </div>\n",
              "  "
            ]
          },
          "metadata": {},
          "execution_count": 24
        }
      ]
    },
    {
      "cell_type": "code",
      "source": [
        "\n",
        "\n",
        "def stocashtic_gradient_descent_regressor(X, y, learning_rate=0.2, n_epochs=1000, k=40):    \n",
        "    w = np.random.randn(1,13)  # Randomly initializing weights\n",
        "    b = np.random.randn(1,1)   # Random intercept value    \n",
        "    epoch=1    \n",
        "    while epoch <= n_epochs:\n",
        "        temp = X.sample(k)\n",
        "        X_tr = temp.iloc[:,0:13].values\n",
        "        y_tr = temp.iloc[:,-1].values        \n",
        "        Lw = w\n",
        "        Lb = b        \n",
        "        loss = 0\n",
        "        y_pred = []\n",
        "        sq_loss = []        \n",
        "        for i in range(k):              \n",
        "            Lw = (-2/k * X_tr[i]) * (y_tr[i] - np.dot(X_tr[i],w.T) - b)\n",
        "            Lb = (-2/k) * (y_tr[i] - np.dot(X_tr[i],w.T) - b)\n",
        "            \n",
        "            w = w - learning_rate * Lw\n",
        "            b = b - learning_rate * Lb\n",
        "            \n",
        "            y_predicted = np.dot(X_tr[i],w.T)\n",
        "            y_pred.append(y_predicted)\n",
        "        \n",
        "        loss = mean_squared_error(y_pred, y_tr)            \n",
        "        print(\"Epoch: %d, Loss: %.3f\" %(epoch, loss))\n",
        "        epoch+=1\n",
        "        learning_rate = learning_rate/1.02        \n",
        "    return w,b\n",
        "\n"
      ],
      "metadata": {
        "id": "56Cb_8lMJYO3"
      },
      "execution_count": 25,
      "outputs": []
    },
    {
      "cell_type": "code",
      "source": [
        "def predict(x,w,b):\n",
        "    y_pred=[]\n",
        "    for i in range(len(x)):\n",
        "        temp_ = x\n",
        "        X_test = temp_.iloc[:,0:13].values\n",
        "        y = np.asscalar(np.dot(w,X_test[i])+b)\n",
        "        y_pred.append(y)\n",
        "    return np.array(y_pred)\n",
        "w,b = stocashtic_gradient_descent_regressor(X_train,y_train)\n",
        "y_pred_customsgd = predict(X_test,w,b)"
      ],
      "metadata": {
        "id": "rLqpsaeCJm0Q"
      },
      "execution_count": null,
      "outputs": []
    },
    {
      "cell_type": "code",
      "source": [
        "from matplotlib.pyplot import figure\n",
        "plt.figure(figsize=(25,6))\n",
        "plt.plot(y_test, label='Actual')\n",
        "plt.plot(y_pred_customsgd, label='Predicted')\n",
        "plt.legend(prop={'size': 16})\n",
        "plt.show()\n",
        "print('Mean Squared Error :',mean_squared_error(y_test, y_pred_customsgd))\n",
        "\n"
      ],
      "metadata": {
        "colab": {
          "base_uri": "https://localhost:8080/",
          "height": 368
        },
        "id": "PWzQZSUqJwQx",
        "outputId": "19030d77-3045-4cdc-b178-ac6d11faaa56"
      },
      "execution_count": 27,
      "outputs": [
        {
          "output_type": "display_data",
          "data": {
            "text/plain": [
              "<Figure size 1800x432 with 1 Axes>"
            ],
            "image/png": "[encoded data removed]"
          },
          "metadata": {
            "needs_background": "light"
          }
        },
        {
          "output_type": "stream",
          "name": "stdout",
          "text": [
            "Mean Squared Error : 27.424181664517608\n"
          ]
        }
      ]
    }
  ]
}